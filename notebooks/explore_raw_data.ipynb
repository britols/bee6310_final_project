{
 "cells": [
  {
   "cell_type": "code",
   "execution_count": 233,
   "metadata": {},
   "outputs": [],
   "source": [
    "import pandas as pd\n",
    "import numpy as np\n",
    "from datetime import datetime\n"
   ]
  },
  {
   "cell_type": "code",
   "execution_count": 2,
   "metadata": {},
   "outputs": [],
   "source": [
    "#reading IRI file\n",
    "df = pd.read_csv(\"data/raw/IRI_EA.tsv\",sep=\"\\t\")"
   ]
  },
  {
   "cell_type": "code",
   "execution_count": null,
   "metadata": {},
   "outputs": [],
   "source": [
    "import glob\n",
    "filenames = glob.glob(\"data/raw/*\")\n",
    "for f in filenames:\n",
    "    df = pd.read_csv(f)\n",
    "    print(\"###########################\")\n",
    "    print(f)\n",
    "    print(np.shape(df))\n",
    "    print(df.head(1))"
   ]
  },
  {
   "cell_type": "code",
   "execution_count": 4,
   "metadata": {},
   "outputs": [],
   "source": [
    "indices = {\n",
    "    'AO': {\n",
    "        'name': 'Arctic Oscilation',\n",
    "        'raw_file': \"AO.csv\",\n",
    "        'format': 'monthly'\n",
    "    },\n",
    "    'NAO': {\n",
    "        'name': 'North Atlantic Oscillation',\n",
    "        'raw_file': 'NAO.csv',\n",
    "        'format': 'monthly'\n",
    "    }\n",
    "}"
   ]
  },
  {
   "cell_type": "code",
   "execution_count": 5,
   "metadata": {},
   "outputs": [],
   "source": [
    "formats = {\n",
    "    'monthly': {\n",
    "        'sep': '\\t',\n",
    "        'header': None,\n",
    "        'missing_value': None\n",
    "    }\n",
    "}"
   ]
  },
  {
   "cell_type": "code",
   "execution_count": 6,
   "metadata": {},
   "outputs": [],
   "source": [
    "sep, header, missing = formats[indices['AO']['format']]"
   ]
  },
  {
   "cell_type": "code",
   "execution_count": null,
   "metadata": {},
   "outputs": [],
   "source": [
    "pd.read_fwf(r'data/raw/IRI_SCA.tsv',sep='\\t')"
   ]
  },
  {
   "cell_type": "code",
   "execution_count": null,
   "metadata": {},
   "outputs": [],
   "source": [
    "pd.read_fwf(r'data/raw/AO.csv',sep='\\t',header=None)"
   ]
  },
  {
   "cell_type": "code",
   "execution_count": null,
   "metadata": {},
   "outputs": [],
   "source": [
    "pd.read_fwf(r'data/raw/AMO.csv',sep='\\t',header=None)"
   ]
  },
  {
   "cell_type": "code",
   "execution_count": null,
   "metadata": {},
   "outputs": [],
   "source": [
    "pd.read_fwf(r'data/raw/AMO.csv',sep='\\t',header=None)"
   ]
  },
  {
   "cell_type": "markdown",
   "metadata": {},
   "source": [
    "### Arctic Oscillation (AO)"
   ]
  },
  {
   "cell_type": "code",
   "execution_count": 15,
   "metadata": {},
   "outputs": [],
   "source": [
    "df = pd.read_fwf(r'data/raw/AO.csv',sep='\\t',header=None)\n",
    "df.columns = ['year','month','AO']\n",
    "df.to_csv(\"data/filtered/AO.csv\",sep=\";\",index=False)"
   ]
  },
  {
   "cell_type": "markdown",
   "metadata": {},
   "source": [
    "### North Atlantic Oscillation (NAO) and friends"
   ]
  },
  {
   "cell_type": "markdown",
   "metadata": {},
   "source": [
    "Important: \n",
    "- data/raw/NAO.csv is NAO data\n",
    "- data/raw/IRI_NAO.csv is the same data, but standarized using 1981-2010 baseline\n",
    "\n",
    "Will be using the standarized version"
   ]
  },
  {
   "cell_type": "code",
   "execution_count": null,
   "metadata": {},
   "outputs": [
    {
     "name": "stdout",
     "output_type": "stream",
     "text": [
      "EA\n",
      "3.67 -3.33\n",
      "EAWR\n",
      "4.03 -4.17\n",
      "EPNP\n",
      "3.88 -2.96\n",
      "NAO\n",
      "3.06 -3.14\n",
      "PNA\n",
      "2.87 -3.65\n",
      "POL\n",
      "3.53 -3.44\n",
      "SCA\n",
      "3.15 -2.69\n",
      "TNH\n",
      "2.2 -3.26\n",
      "WP\n",
      "3.39 -3.45\n"
     ]
    }
   ],
   "source": [
    "datei = pd.to_datetime('1960-01', format='%Y-%m')\n",
    "indexes = ['EA','EAWR','EPNP','NAO','PNA','POL','SCA','TNH','WP']\n",
    "for i in indexes:\n",
    "    print(i)\n",
    "    df = pd.read_fwf(r'data/raw/IRI_{}.tsv'.format(i),sep='\\t')\n",
    "    df.columns = ['month',i]\n",
    "    df['month'] = np.floor(df['month'])\n",
    "\n",
    "\n",
    "    df['date'] = df['month'].apply(lambda m: datei + pd.DateOffset(months=m))\n",
    "    df['year'] = df['date'].dt.year\n",
    "    df['month'] = df['date'].dt.month\n",
    "    df.drop(['date'],axis=1,inplace=True)\n",
    "    print(np.max(df[i]),np.min(df[i]))\n",
    "    df.to_csv(\"data/filtered/{}.csv\".format(i),sep=\";\",index=False)\n"
   ]
  },
  {
   "cell_type": "code",
   "execution_count": 187,
   "metadata": {},
   "outputs": [
    {
     "name": "stdout",
     "output_type": "stream",
     "text": [
      "data/raw\\AMO.csv\n",
      "data/raw\\AO.csv\n",
      "data/raw\\ersst5_nino.csv\n",
      "data/raw\\GBI.csv\n",
      "data/raw\\IRI_EA.tsv\n",
      "data/raw\\IRI_EAWR.tsv\n",
      "data/raw\\IRI_EPNP.tsv\n",
      "data/raw\\IRI_NAO.tsv\n",
      "data/raw\\IRI_PNA.tsv\n",
      "data/raw\\IRI_POL.tsv\n",
      "data/raw\\IRI_SCA.tsv\n",
      "data/raw\\IRI_TNH.tsv\n",
      "data/raw\\IRI_WP.tsv\n",
      "data/raw\\NAO.csv\n",
      "data/raw\\NINO_1_2.csv\n",
      "data/raw\\NINO_4.csv\n",
      "data/raw\\ONI.csv\n",
      "data/raw\\PDO.csv\n",
      "data/raw\\PDO_source_2.csv\n",
      "data/raw\\PNA.csv\n",
      "data/raw\\QBO.csv\n",
      "data/raw\\tele_index.csv\n"
     ]
    }
   ],
   "source": [
    "filenames = glob.glob(\"data/raw/*\")\n",
    "for f in filenames:\n",
    "    print(f)"
   ]
  },
  {
   "cell_type": "markdown",
   "metadata": {},
   "source": [
    "#### Atlantic Multi-decadal Oscillation (AMO)"
   ]
  },
  {
   "cell_type": "code",
   "execution_count": 209,
   "metadata": {},
   "outputs": [],
   "source": [
    "df = pd.read_fwf(r'data/raw/AMO.csv',sep='\\t',header=None,na_values=99.990)\n",
    "df = df.melt(id_vars=0)\n",
    "df.columns = ['year','month','AMO']\n",
    "df = df.dropna()\n",
    "df = df.sort_values(by=['year','month'])\n",
    "df.to_csv(\"data/filtered/AMO.csv\",sep=\";\",index=False)"
   ]
  },
  {
   "cell_type": "markdown",
   "metadata": {},
   "source": [
    "#### Greenland Blocking Index (GBI)"
   ]
  },
  {
   "cell_type": "code",
   "execution_count": 246,
   "metadata": {},
   "outputs": [],
   "source": [
    "df = pd.read_csv(r'data/raw/GBI.csv',sep=',',header=None,na_values=-9999.000)\n",
    "df\n",
    "#df = df.melt(id_vars=0)\n",
    "df.columns = ['date','GBI']    \n",
    "df['date'] = pd.to_datetime(df['date'])\n",
    "df['year'] = df['date'].dt.year\n",
    "df['month'] = df['date'].dt.month\n",
    "df = df.dropna()\n",
    "df.drop(['date'],axis=1,inplace=True)\n",
    "df = df.sort_values(by=['year','month'])\n",
    "df.to_csv(\"data/filtered/GBI.csv\",sep=\";\",index=False)"
   ]
  },
  {
   "cell_type": "markdown",
   "metadata": {},
   "source": [
    "#### ONI"
   ]
  },
  {
   "cell_type": "code",
   "execution_count": 251,
   "metadata": {},
   "outputs": [],
   "source": [
    "df = pd.read_fwf(r'data/raw/ONI.csv',sep='\\t',header=None,na_values=-99.90)\n",
    "df = df.melt(id_vars=0)\n",
    "df.columns = ['year','month','ONI']\n",
    "df = df.dropna()\n",
    "df = df.sort_values(by=['year','month'])\n",
    "df.to_csv(\"data/filtered/ONI.csv\",sep=\";\",index=False)"
   ]
  },
  {
   "cell_type": "markdown",
   "metadata": {},
   "source": [
    "PDO"
   ]
  },
  {
   "cell_type": "code",
   "execution_count": 256,
   "metadata": {},
   "outputs": [],
   "source": [
    "df = pd.read_fwf(r'data/raw/PDO_source_3.csv',sep='\\t',header=None,na_values=[-9999.000,99])\n",
    "df = df.melt(id_vars=0)\n",
    "df.columns = ['year','month','PDO']\n",
    "df = df.dropna()\n",
    "df = df.sort_values(by=['year','month'])\n",
    "df.to_csv(\"data/filtered/PDO.csv\",sep=\";\",index=False)"
   ]
  },
  {
   "cell_type": "markdown",
   "metadata": {},
   "source": [
    "#### QBO"
   ]
  },
  {
   "cell_type": "code",
   "execution_count": 261,
   "metadata": {},
   "outputs": [],
   "source": [
    "df = pd.read_fwf(r'data/raw/QBO.csv',sep='\\t',header=None,na_values=[-999.00,99])\n",
    "df = df.melt(id_vars=0)\n",
    "df.columns = ['year','month','QBO']\n",
    "df = df.dropna()\n",
    "df = df.sort_values(by=['year','month'])\n",
    "df\n",
    "df.to_csv(\"data/filtered/QBO.csv\",sep=\";\",index=False)"
   ]
  },
  {
   "cell_type": "markdown",
   "metadata": {},
   "source": [
    "#### ENSO"
   ]
  },
  {
   "cell_type": "code",
   "execution_count": 296,
   "metadata": {},
   "outputs": [],
   "source": [
    "df=pd.read_csv(r'data/raw/ersst5_nino.csv',sep='\\t',header=None,skipinitialspace=False,skiprows=1)\n",
    "df_split = df[0].str.split(expand=True)\n",
    "df_split.columns = [\"year\",\"month\", \"NINO1_2\",\"NINO1_2_ANOM\",\"NINO3\",\"NINO3_ANOM\",\"NINO4\",\"NINO4_ANOM\",\"NINO3_4\",\"NINO3_4_ANOM\"]\n",
    "df_split = df_split.dropna()\n",
    "df_split.to_csv(\"data/filtered/ENSO.csv\",sep=\";\",index=False)"
   ]
  },
  {
   "cell_type": "markdown",
   "metadata": {},
   "source": [
    "#### Merging all index"
   ]
  },
  {
   "cell_type": "code",
   "execution_count": 306,
   "metadata": {},
   "outputs": [
    {
     "name": "stdout",
     "output_type": "stream",
     "text": [
      "      year  month  AMO      AO    EA  EAWR  NINO1_2  NINO1_2_ANOM  NINO3  \\\n",
      "0     1851      1  NaN     NaN   NaN   NaN      NaN           NaN    NaN   \n",
      "1     1851      2  NaN     NaN   NaN   NaN      NaN           NaN    NaN   \n",
      "2     1851      3  NaN     NaN   NaN   NaN      NaN           NaN    NaN   \n",
      "3     1851      4  NaN     NaN   NaN   NaN      NaN           NaN    NaN   \n",
      "4     1851      5  NaN     NaN   NaN   NaN      NaN           NaN    NaN   \n",
      "...    ...    ...  ...     ...   ...   ...      ...           ...    ...   \n",
      "2081  2024      6  NaN  0.1364  1.32 -2.32    22.17         -0.95  26.35   \n",
      "2082  2024      7  NaN  0.5868  2.39 -0.41    21.18         -0.78  25.67   \n",
      "2083  2024      8  NaN  1.2836  3.67 -0.25    20.58         -0.43  24.83   \n",
      "2084  2024      9  NaN -0.6237  1.26 -3.38    19.98         -0.75  24.71   \n",
      "2085  2024     10  NaN  0.5248  0.97 -1.35    20.67         -0.35  24.81   \n",
      "\n",
      "      NINO3_ANOM  ...   GBI   NAO   ONI    PDO   PNA   POL    QBO   SCA  TNH  \\\n",
      "0            NaN  ... -0.90   NaN   NaN    NaN   NaN   NaN    NaN   NaN  NaN   \n",
      "1            NaN  ... -0.60   NaN   NaN    NaN   NaN   NaN    NaN   NaN  NaN   \n",
      "2            NaN  ... -0.51   NaN   NaN    NaN   NaN   NaN    NaN   NaN  NaN   \n",
      "3            NaN  ... -0.02   NaN   NaN    NaN   NaN   NaN    NaN   NaN  NaN   \n",
      "4            NaN  ...  0.21   NaN   NaN    NaN   NaN   NaN    NaN   NaN  NaN   \n",
      "...          ...  ...   ...   ...   ...    ...   ...   ...    ...   ...  ...   \n",
      "2081       -0.27  ...   NaN  0.22  0.15 -2.374  1.14 -1.00   1.95 -1.24  NaN   \n",
      "2082       -0.14  ...   NaN  1.48  0.04 -1.789  2.01 -0.13   6.91 -1.61  NaN   \n",
      "2083       -0.29  ...   NaN  0.69 -0.11 -1.807 -1.04 -1.34   8.61 -1.18  NaN   \n",
      "2084       -0.20  ...   NaN -1.25 -0.22 -2.695  1.08  0.30  10.36  0.41  NaN   \n",
      "2085       -0.17  ...   NaN  0.10   NaN    NaN  0.20 -1.01  11.64  1.11  NaN   \n",
      "\n",
      "        WP  \n",
      "0      NaN  \n",
      "1      NaN  \n",
      "2      NaN  \n",
      "3      NaN  \n",
      "4      NaN  \n",
      "...    ...  \n",
      "2081 -1.29  \n",
      "2082 -0.77  \n",
      "2083  1.06  \n",
      "2084  1.38  \n",
      "2085  0.91  \n",
      "\n",
      "[2086 rows x 25 columns]\n"
     ]
    }
   ],
   "source": [
    "import glob\n",
    "# List of CSV files (you can change this to your actual list of file paths)\n",
    "csv_files = glob.glob(\"data/filtered/*\")\n",
    "# Create an empty DataFrame to start the merging process\n",
    "merged_df = None\n",
    "\n",
    "# Loop through each CSV file\n",
    "for file in csv_files:\n",
    "    # Read the current CSV file\n",
    "    df = pd.read_csv(file,sep=\";\")\n",
    "    \n",
    "    # Ensure the 'year' and 'month' columns exist and are used for merging\n",
    "    if 'year' in df.columns and 'month' in df.columns:\n",
    "        if merged_df is None:\n",
    "            # Initialize the first DataFrame\n",
    "            merged_df = df\n",
    "        else:\n",
    "            # Merge with the existing merged_df on 'year' and 'month'\n",
    "            merged_df = pd.merge(merged_df, df, on=['year', 'month'], how='outer')\n",
    "    else:\n",
    "        print(f\"Skipping {file} because it does not contain 'year' and 'month' columns\")\n",
    "\n",
    "# Optionally, you can save the merged DataFrame to a new CSV file\n",
    "#merged_df.to_csv('merged_output.csv', index=False)\n",
    "\n",
    "# Display the merged DataFrame\n",
    "print(merged_df)"
   ]
  },
  {
   "cell_type": "code",
   "execution_count": 307,
   "metadata": {},
   "outputs": [],
   "source": [
    "df = merged_df.dropna()\n",
    "df.to_csv(\"data/ready/all_indices.csv\",sep=\";\",index=False)"
   ]
  },
  {
   "cell_type": "code",
   "execution_count": 309,
   "metadata": {},
   "outputs": [
    {
     "data": {
      "image/png": "[encoded data removed]",
      "text/plain": [
       "<Figure size 1400x1000 with 2 Axes>"
      ]
     },
     "metadata": {},
     "output_type": "display_data"
    }
   ],
   "source": [
    "corr_matrix = df.drop(columns=[\"year\",\"month\"]).corr()\n",
    "number = range(0,len(corr_matrix))\n",
    "labels = corr_matrix.columns\n",
    "\n",
    "import matplotlib.pyplot as plt\n",
    "plt.figure(figsize=(14,10))\n",
    "plt.imshow(corr_matrix,cmap=\"RdBu\")\n",
    "plt.colorbar()\n",
    "plt.xticks(number,labels,rotation='vertical')\n",
    "plt.yticks(number,labels,rotation='horizontal')\n",
    "plt.show()"
   ]
  }
 ],
 "metadata": {
  "kernelspec": {
   "display_name": "arco",
   "language": "python",
   "name": "python3"
  },
  "language_info": {
   "codemirror_mode": {
    "name": "ipython",
    "version": 3
   },
   "file_extension": ".py",
   "mimetype": "text/x-python",
   "name": "python",
   "nbconvert_exporter": "python",
   "pygments_lexer": "ipython3",
   "version": "3.12.6"
  }
 },
 "nbformat": 4,
 "nbformat_minor": 2
}
